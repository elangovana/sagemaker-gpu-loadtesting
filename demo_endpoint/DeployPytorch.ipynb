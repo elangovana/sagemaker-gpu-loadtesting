{
 "cells": [
  {
   "cell_type": "code",
   "execution_count": 3,
   "metadata": {},
   "outputs": [
    {
     "name": "stdout",
     "output_type": "stream",
     "text": [
      "Requirement already satisfied: boto3 in /Users/aeg/miniconda/envs/imageembddingenv/lib/python3.6/site-packages (1.9.188)\n",
      "Requirement already satisfied: jmespath<1.0.0,>=0.7.1 in /Users/aeg/miniconda/envs/imageembddingenv/lib/python3.6/site-packages (from boto3) (0.9.4)\n",
      "Requirement already satisfied: botocore<1.13.0,>=1.12.188 in /Users/aeg/miniconda/envs/imageembddingenv/lib/python3.6/site-packages (from boto3) (1.12.188)\n",
      "Requirement already satisfied: s3transfer<0.3.0,>=0.2.0 in /Users/aeg/miniconda/envs/imageembddingenv/lib/python3.6/site-packages (from boto3) (0.2.1)\n",
      "Requirement already satisfied: urllib3<1.26,>=1.20; python_version >= \"3.4\" in /Users/aeg/miniconda/envs/imageembddingenv/lib/python3.6/site-packages (from botocore<1.13.0,>=1.12.188->boto3) (1.24.3)\n",
      "Requirement already satisfied: docutils>=0.10 in /Users/aeg/miniconda/envs/imageembddingenv/lib/python3.6/site-packages (from botocore<1.13.0,>=1.12.188->boto3) (0.14)\n",
      "Requirement already satisfied: python-dateutil<3.0.0,>=2.1; python_version >= \"2.7\" in /Users/aeg/miniconda/envs/imageembddingenv/lib/python3.6/site-packages (from botocore<1.13.0,>=1.12.188->boto3) (2.8.0)\n",
      "Requirement already satisfied: six>=1.5 in /Users/aeg/miniconda/envs/imageembddingenv/lib/python3.6/site-packages (from python-dateutil<3.0.0,>=2.1; python_version >= \"2.7\"->botocore<1.13.0,>=1.12.188->boto3) (1.12.0)\n"
     ]
    }
   ],
   "source": [
    "!pip install boto3==1.9.188"
   ]
  },
  {
   "cell_type": "code",
   "execution_count": 4,
   "metadata": {},
   "outputs": [],
   "source": [
    "from sagemaker.pytorch import PyTorch\n",
    "import sagemaker\n",
    "from sagemaker import get_execution_role\n",
    "from sagemaker.amazon.amazon_estimator import get_image_uri\n",
    "import boto3\n",
    "\n",
    "sagemaker_session = sagemaker.Session()\n",
    "account_id =  boto3.client('sts').get_caller_identity().get('Account')\n",
    "region = boto3.session.Session().region_name\n",
    "\n",
    "\n",
    "#role = sagemaker.get_execution_role()\n",
    "role=\"arn:aws:iam::{}:role/service-role/AmazonSageMaker-ExecutionRole-20190118T115449\".format(account_id)\n",
    "\n",
    "sagemaker_session = sagemaker.Session()\n"
   ]
  },
  {
   "cell_type": "code",
   "execution_count": 5,
   "metadata": {},
   "outputs": [],
   "source": [
    "\n",
    "bucket=sagemaker_session.default_bucket() \n",
    "\n",
    "prefix = \"pytorch_load_test\"\n",
    "\n",
    "pretrained_model_path = \"s3://pytorch/models/resnet18-5c106cde.pth\""
   ]
  },
  {
   "cell_type": "code",
   "execution_count": 6,
   "metadata": {},
   "outputs": [],
   "source": [
    "model_path = \"s3://{}/{}/source.tar.gz\".format(bucket, prefix)"
   ]
  },
  {
   "cell_type": "code",
   "execution_count": 7,
   "metadata": {},
   "outputs": [
    {
     "name": "stdout",
     "output_type": "stream",
     "text": [
      "download: s3://pytorch/models/resnet18-5c106cde.pth to ./resnet18-5c106cde.pth\n",
      "a resnet18-5c106cde.pth\n",
      "upload: ./source.tar.gz to s3://sagemaker-us-east-2-324346001917/pytorch_load_test/source.tar.gz\n"
     ]
    }
   ],
   "source": [
    "!aws s3 cp $pretrained_model_path .\n",
    "!tar -czvf source.tar.gz *.pth \n",
    "\n",
    "!aws s3 cp  source.tar.gz  $model_path"
   ]
  },
  {
   "cell_type": "code",
   "execution_count": null,
   "metadata": {},
   "outputs": [
    {
     "name": "stdout",
     "output_type": "stream",
     "text": [
      "-----------------------------------------------"
     ]
    }
   ],
   "source": [
    "pytorch_model = sagemaker.pytorch.model.PyTorchModel(model_data=model_path, role=role, \n",
    "                             entry_point='./src/sm_inference.py')\n",
    "\n",
    "predictor = pytorch_model.deploy(instance_type='ml.p3.2xlarge', initial_instance_count=1)"
   ]
  }
 ],
 "metadata": {
  "kernelspec": {
   "display_name": "Python 3",
   "language": "python",
   "name": "python3"
  },
  "language_info": {
   "codemirror_mode": {
    "name": "ipython",
    "version": 3
   },
   "file_extension": ".py",
   "mimetype": "text/x-python",
   "name": "python",
   "nbconvert_exporter": "python",
   "pygments_lexer": "ipython3",
   "version": "3.6.8"
  }
 },
 "nbformat": 4,
 "nbformat_minor": 1
}
