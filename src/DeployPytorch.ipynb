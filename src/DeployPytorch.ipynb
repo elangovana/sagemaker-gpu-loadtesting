{
 "cells": [
  {
   "cell_type": "code",
   "execution_count": null,
   "metadata": {},
   "outputs": [
    {
     "name": "stderr",
     "output_type": "stream",
     "text": [
      "WARNING:root:pandas failed to import. Analytics features will be impaired or broken.\n"
     ]
    }
   ],
   "source": [
    "from sagemaker.pytorch import PyTorch\n",
    "import sagemaker\n",
    "from sagemaker import get_execution_role\n",
    "from sagemaker.amazon.amazon_estimator import get_image_uri\n",
    "\n",
    "sagemaker_session = sagemaker.Session()\n",
    "\n",
    "bucket=sagemaker_session.default_bucket() \n",
    "\n",
    "role = get_execution_role()\n",
    "\n",
    "prefix = \"pytorch_load_test\"\n",
    "\n",
    "pretrained_model_path = \"s3://pytorch/models/resnet18-5c106cde.pth\""
   ]
  },
  {
   "cell_type": "code",
   "execution_count": 2,
   "metadata": {},
   "outputs": [],
   "source": [
    "model_path = \"s3://{}/{}/source.tar.gz\".format(bucket, prefix)"
   ]
  },
  {
   "cell_type": "code",
   "execution_count": null,
   "metadata": {},
   "outputs": [],
   "source": [
    "!aws s3 cp $pretrained_model_path .\n",
    "!tar -czvf source.tar.gz *.pth \n",
    "\n",
    "!aws s3 cp  source.tar.gz  $model_path"
   ]
  },
  {
   "cell_type": "code",
   "execution_count": 3,
   "metadata": {},
   "outputs": [
    {
     "name": "stdout",
     "output_type": "stream",
     "text": [
      "-----------------------------------------------------------------------------!"
     ]
    }
   ],
   "source": [
    "pytorch_model = sagemaker.pytorch.model.PyTorchModel(model_data=model_path, role=role, \n",
    "                             entry_point='sm_inference.py')\n",
    "\n",
    "predictor = pytorch_model.deploy(instance_type='ml.p3.2xlarge', initial_instance_count=1)"
   ]
  }
 ],
 "metadata": {
  "kernelspec": {
   "display_name": "Python 3",
   "language": "python",
   "name": "python3"
  },
  "language_info": {
   "codemirror_mode": {
    "name": "ipython",
    "version": 3
   },
   "file_extension": ".py",
   "mimetype": "text/x-python",
   "name": "python",
   "nbconvert_exporter": "python",
   "pygments_lexer": "ipython3",
   "version": "3.6.8"
  }
 },
 "nbformat": 4,
 "nbformat_minor": 1
}
